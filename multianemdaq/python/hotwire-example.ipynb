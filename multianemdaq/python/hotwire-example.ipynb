{
 "cells": [
  {
   "cell_type": "markdown",
   "id": "43a86c95",
   "metadata": {},
   "source": [
    "# Using the `hotwire` module\n"
   ]
  },
  {
   "cell_type": "code",
   "execution_count": null,
   "id": "d4160d52",
   "metadata": {},
   "outputs": [],
   "source": [
    "import numpy as np\n",
    "import hotwire as hw\n",
    "from matplotlib import pyplot as plt"
   ]
  },
  {
   "cell_type": "code",
   "execution_count": null,
   "id": "07da5743",
   "metadata": {},
   "outputs": [],
   "source": [
    "# Let's create a CTA sensor\n",
    "\n",
    "R = hw.Thermistor(5e3, 3950, 25)  # NTC Thermistor with resistance of 5k at 25oC\n",
    "cta = hw.CTASensor(R, 100) # The CTA will operate at 100 Ohms\n"
   ]
  },
  {
   "cell_type": "code",
   "execution_count": null,
   "id": "a1816ccd",
   "metadata": {},
   "outputs": [],
   "source": [
    "# Let's manufacture a calibration curve\n",
    "U = np.arange(0.5, 10, 0.1)\n",
    "E = np.sqrt(3.0 + 1.5 * U ** 0.4)"
   ]
  },
  {
   "cell_type": "code",
   "execution_count": null,
   "id": "cd9bc4a4",
   "metadata": {},
   "outputs": [],
   "source": [
    "plt.plot(U,E)\n",
    "plt.xlabel(\"Velocity (m/s)\")\n",
    "plt.ylabel(\"Voltage (V)\")"
   ]
  },
  {
   "cell_type": "code",
   "execution_count": null,
   "id": "ad7d6935",
   "metadata": {},
   "outputs": [],
   "source": [
    "# Now we set the calibration curve\n",
    "cta.calibr(E, U, 25, N=2)"
   ]
  },
  {
   "cell_type": "code",
   "execution_count": null,
   "id": "8dd3acf4",
   "metadata": {},
   "outputs": [],
   "source": [
    "# We test the calibration curve\n",
    "U1 = cta(E)\n",
    "err = U1 - U\n",
    "plt.plot(U, err)"
   ]
  },
  {
   "cell_type": "code",
   "execution_count": null,
   "id": "1b9f32b8",
   "metadata": {},
   "outputs": [],
   "source": []
  }
 ],
 "metadata": {
  "@webio": {
   "lastCommId": null,
   "lastKernelId": null
  },
  "kernelspec": {
   "display_name": "Python 3 (ipykernel)",
   "language": "python",
   "name": "python3"
  },
  "language_info": {
   "codemirror_mode": {
    "name": "ipython",
    "version": 3
   },
   "file_extension": ".py",
   "mimetype": "text/x-python",
   "name": "python",
   "nbconvert_exporter": "python",
   "pygments_lexer": "ipython3",
   "version": "3.10.10"
  }
 },
 "nbformat": 4,
 "nbformat_minor": 5
}
